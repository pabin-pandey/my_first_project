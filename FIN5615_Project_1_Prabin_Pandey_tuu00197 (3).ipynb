{
  "cells": [
    {
      "cell_type": "markdown",
      "metadata": {
        "deletable": true,    // Changed to allow deletion
        "editable": true      // Changed to allow editing
      },
      "source": [
        "<h2>Project #1</h2>\n",
        "<p class=\"text-primary\">Time Value of Money</p>"
      ]
    },
    {
      "cell_type": "markdown",
      "metadata": {
        "deletable": true,    // Changed to allow deletion
        "editable": true      // Changed to allow editing
      },
      "source": [
        "<div class=\"panel panel-success\">\n",
        "  <div class=\"panel-heading\">\n",
        "    <span style=\"color:black\"><b>Project Introduction</b></span>\n",
        "  </div>\n",
        "  <div class=\"panel-body\">\n",
        "    In this project we will examine the time value of money and the mechanics of discounting future cashflows to present day. We will then attempt to apply these concepts to valuing bonds and equities.\n",
        "  </div>\n",
        "</div>"
      ]
    }
  ]
}
  },
  {
   "cell_type": "code",
   "execution_count": 4,
   "metadata": {},
   "outputs": [],
   "source": [
    "import numpy as np"
   ]
  },
  {
   "cell_type": "markdown",
   "metadata": {
    "deletable": false,
    "editable": false
   },
   "source": [
    "<div class = \"panel panel-primary\">\n",
    "    <div class = \"panel-heading\"> \n",
    "    <span style=\"color:white\"><b>Task 1</b>\n",
    "    </div>\n",
    "    <div class = \"panel-body\"> \n",
    "    Time value of money is the concept that receiving a cashflow today is worth more than receiving the same amount at a future date. We can compare cashflows of differing time values by calculating and comparing their present values.\n",
    "    <br><br>Recall that the formula to calculate the present value of a cashflow <i>CF</i> at time <i>t</i> assuming annual compounding at rate <i>r</i> is: \n",
    "    <br><br>\n",
    "    $$PV = \\frac{CF}{(1 + r)^t}$$\n",
    "    <br>Compute the present value of a cashflow based on the inputs below. \n",
    "    <br><br>Check that your answer should be approximately \\$90.70.\n",
    "    </div>\n",
    "</div>"
   ]
  },
  {
   "cell_type": "code",
   "execution_count": 6,
   "metadata": {},
   "outputs": [],
   "source": [
    "###Use code below\n",
    "CF = 100.\n",
    "rate = .05\n",
    "t = 2\n",
    "###\n"
   ]
  },
  {
   "cell_type": "code",
   "execution_count": 7,
   "metadata": {},
   "outputs": [
    {
     "name": "stdout",
     "output_type": "stream",
     "text": [
      "Hence, the present value of the given cashflow is $90.70.\n"
     ]
    }
   ],
   "source": [
    "# Given,\n",
    "CF = 100\n",
    "rate = .05\n",
    "t = 2\n",
    "\n",
    "# Calculating the present value\n",
    "PV = CF / (1 + rate)**t\n",
    "\n",
    "# The result:\n",
    "print (f\"Hence, the present value of the given cashflow is ${PV:.2f}.\")\n"
   ]
  },
  {
   "cell_type": "markdown",
   "metadata": {
    "deletable": false,
    "editable": false
   },
   "source": [
    "<div class = \"panel panel-primary\">\n",
    "    <div class = \"panel-heading\"> \n",
    "    <span style=\"color:white\"><b>Task 2</b>\n",
    "    </div>\n",
    "    <div class = \"panel-body\"> \n",
    "    The present value formula can be modified to account for periodic compounding at some m-thly frequency:\n",
    "    <br><br>\n",
    "    $$PV = \\frac{CF}{\\left(1 + \\frac{r}{m}\\right)^{mt}}$$\n",
    "    <br>Assuming the same inputs as the previous task, now include a new variable *m* with a value of 12 representing monthly compounding. Calculate the cashflow's present value given monthly compounding. \n",
    "    <br><br>Check that your answer should be approximately \\$90.50.\n",
    "    </div>\n",
    "</div>"
   ]
  },
  {
   "cell_type": "code",
   "execution_count": 9,
   "metadata": {},
   "outputs": [
    {
     "name": "stdout",
     "output_type": "stream",
     "text": [
      "Therefore, the present value of given cashflow under monthly compounding is $90.50.\n"
     ]
    }
   ],
   "source": [
    "# We have,\n",
    "CF = 100\n",
    "rate = .05\n",
    "t = 2\n",
    "m = 12  # period of compounding per year (monthly)\n",
    "\n",
    "# Calculating the present value with monthly compounding\n",
    "PV = CF / (1 + rate/m)**(m*t)\n",
    "\n",
    "# The result\n",
    "print (f\"Therefore, the present value of given cashflow under monthly compounding is ${PV:.2f}.\")\n"
   ]
  },
  {
   "cell_type": "markdown",
   "metadata": {
    "deletable": false,
    "editable": false
   },
   "source": [
    "<div class = \"panel panel-primary\">\n",
    "    <div class = \"panel-heading\"> \n",
    "    <span style=\"color:white\"><b>Task 3</b>\n",
    "    </div>\n",
    "    <div class = \"panel-body\"> \n",
    "    Calculate the cashflow's present value under daily compounding. \n",
    "    <br><br>Check that your answer should be approximately \\$90.48.\n",
    "    <br><br>Answer the following questions:\n",
    "    <ul>\n",
    "        <li>What happens to the present value as we increase the compounding frequency? Why?</li>\n",
    "        <li>What will happen if we increase the compounding frequency to infinity (or some extremely large number)?</li>\n",
    "    </ul>\n",
    "    </div>\n",
    "</div>"
   ]
  },
  {
   "cell_type": "code",
   "execution_count": 11,
   "metadata": {},
   "outputs": [
    {
     "name": "stdout",
     "output_type": "stream",
     "text": [
      "Therefore, the present value of given cashflow under daily compounding is $90.48.\n"
     ]
    }
   ],
   "source": [
    "# We have,\n",
    "CF = 100\n",
    "rate = .05\n",
    "t = 2\n",
    "m = 365  # Period of compounding per year (daily)\n",
    "\n",
    "# Calculating the present value under daily compounding\n",
    "PV = CF / (1 + rate/m)**(m*t)\n",
    "\n",
    "# The result\n",
    "print (f\"Therefore, the present value of given cashflow under daily compounding is ${PV:.2f}.\")"
   ]
  },
  {
   "cell_type": "markdown",
   "metadata": {},
   "source": [
    "\n",
    " ### Q.No.1 What happens to the present value as we increase the compounding frequency? Why?\n",
    "As we increase the compounding frequency (e.g., from annually to monthly, and then daily), the present value **decreases**. Increasing the compounding frequency reduces the present value because it means cash flows are discounted more times, leading to a lower value today.\n",
    "\n",
    " ### Q.No.2 What will happen if we increase the compounding frequency to infinity (or some extremely large number)?\n",
    "If we keep increasing the compounding frequency to an extremely large number or infinity, the present value eventually approaches a limit. This limit is what we get with continuous compounding. In other words, the more frequent the compounding, the less the present value becomes, but after a certain point, increasing the frequency further doesn’t make much difference—it just levels off.\n",
    "\n"
   ]
  },
  {
   "cell_type": "markdown",
   "metadata": {
    "deletable": false,
    "editable": false
   },
   "source": [
    "<div class = \"panel panel-primary\">\n",
    "    <div class = \"panel-heading\"> \n",
    "    <span style=\"color:white\"><b>Task 4</b>\n",
    "    </div>\n",
    "    <div class = \"panel-body\"> \n",
    "    Recall the formula for calculating present value under continuous compounding:\n",
    "    <br><br>\n",
    "    $$PV = CF * e^{-rt}$$\n",
    "    <br>Using the same inputs thus far, calculate the cashflow's present value under continuous compounding.\n",
    "    <br><br>Check that your answer should be approximately \\$90.48.\n",
    "    </div>\n",
    "</div>"
   ]
  },
  {
   "cell_type": "code",
   "execution_count": 14,
   "metadata": {},
   "outputs": [
    {
     "name": "stdout",
     "output_type": "stream",
     "text": [
      "Hence, the present value of cashflow under continuous compounding is $90.48.\n"
     ]
    }
   ],
   "source": [
    "# Given,\n",
    "CF = 100\n",
    "rate = .05\n",
    "t = 2\n",
    "\n",
    "# Calculating the present value under continuous compounding,\n",
    "PV = CF*np.exp(-rate*t)\n",
    "\n",
    "# The result,\n",
    "print (f'Hence, the present value of cashflow under continuous compounding is ${PV:.2f}.')\n",
    "\n"
   ]
  },
  {
   "cell_type": "markdown",
   "metadata": {
    "deletable": false,
    "editable": false
   },
   "source": [
    "<div class = \"panel panel-primary\">\n",
    "    <div class = \"panel-heading\"> \n",
    "    <span style=\"color:white\"><b>Task 5</b>\n",
    "    </div>\n",
    "    <div class = \"panel-body\"> \n",
    "    Recall that the net present value of a stream of cashflows is simply the sum of the present values of each individual cashflow:\n",
    "    <br><br>\n",
    "    $$NPV = \\sum_{t}PV(CF_t)$$\n",
    "    <br>Calculate the net present value for the following cashflows at years 1, 2, and 5 of \\$100, \\$110, and \\$200, respectively. Assume annual compounding at a rate of 2%.\n",
    "    <br><br>Check that your answer should be approximately \\$384.91.\n",
    "    </div>\n",
    "</div>"
   ]
  },
  {
   "cell_type": "code",
   "execution_count": 16,
   "metadata": {},
   "outputs": [
    {
     "name": "stdout",
     "output_type": "stream",
     "text": [
      "Hence, the present value of the stream of cash flows is $384.91.\n"
     ]
    }
   ],
   "source": [
    "# We have,\n",
    "CF = [100,110,200]  # Cashflows for year 1, 2 and 5\n",
    "t = [1,2,5]  # Corresponding years\n",
    "r = 0.02  # Annual rate\n",
    "\n",
    "# Calculating the present value of each cashflow,\n",
    "PV_1 = CF[0]/(1+r)**t[0]  # Present value of first year\n",
    "PV_2 = CF[1]/(1+r)**t[1]  # Present value of second year\n",
    "PV_3 = CF[2]/(1+r)**t[2]  # Present value of third year\n",
    "\n",
    "# Sum of the present values to get NPV,\n",
    "NPV = PV_1 + PV_2 + PV_3\n",
    "\n",
    "# The result,\n",
    "print (f'Hence, the present value of the stream of cash flows is ${NPV:.2f}.')\n",
    "\n"
   ]
  },
  {
   "cell_type": "markdown",
   "metadata": {
    "deletable": false,
    "editable": false
   },
   "source": [
    "<div class = \"panel panel-primary\">\n",
    "    <div class = \"panel-heading\"> \n",
    "    <span style=\"color:white\"><b>Task 6</b>\n",
    "    </div>\n",
    "    <div class = \"panel-body\"> \n",
    "    The price of a risk-free coupon bearing bond is simply the NPV of its future generated cashflow stream. But given the consistent periodic coupon payments, we can treat the coupons as an annuity and simplify the NPV formula: \n",
    "    <br><br>\n",
    "    $$B = F \\left(\\frac{c}{m}\\right)\\frac{1 - \\left(1 + \\frac{r}{m}\\right)^{-mT}}{\\frac{r}{m}}  + F\\left(1 + \\frac{r}{m}\\right)^{-mT}$$\n",
    "    <br>Where $B$ is the bond price, $F$ is the face amount, $m$ is the coupon payment frequency, $T$ is the maturity, and interest rate $r$.\n",
    "    <br><br>Apply this formula to calculate the price of a bond with \\$1000 face value, maturing in 30 years, paying a semi-annual coupon of 4.5%, assuming a constant risk-free interest rate of 2%.\n",
    "    <br><br>Check that your answer should be approximately \\$1561.94.\n",
    "    <br><br>Answer the following questions: \n",
    "    <ul>\n",
    "        <li>Is this a premium or a discount bond?</li>\n",
    "        <li>What might cause this bond to trade at a market price that is different from this calculated price?</li>\n",
    "    </ul>\n",
    "    </div>\n",
    "</div>"
   ]
  },
  {
   "cell_type": "code",
   "execution_count": 18,
   "metadata": {},
   "outputs": [
    {
     "name": "stdout",
     "output_type": "stream",
     "text": [
      "Hence, the price of risk-free coupon bearing bond is $1561.94.\n"
     ]
    }
   ],
   "source": [
    "# We have,\n",
    "F = 1000   # Face Value of bond\n",
    "C = 0.045  # Coupon rate (4.5%)\n",
    "m = 2      # Periods of coupon payments per year (semi-annual)\n",
    "t = 30     # Time to maturity in years\n",
    "r = 0.02   # Risk-free interest rate (2%)\n",
    "\n",
    "# Calculating the  bond price (B),\n",
    "B = (F*(C/m)) * (1-((1+r/m)**(-m*t)))/(r/m) + F*(1+r/m)**(-m*t)\n",
    "\n",
    "#The result,\n",
    "print (f'Hence, the price of risk-free coupon bearing bond is ${B:.2f}.')"
   ]
  },
  {
   "cell_type": "markdown",
   "metadata": {},
   "source": [
    "### Q.No.1 Is this a premium or a discount bond?\n",
    "This bond is considered a premium bond because its calculated price (1,561.94) exceeds the bond's face value (1,000). Additionally, the bond's coupon rate (4.5%) is higher than the risk-free interest rate (2%), further confirming that it is a premium bond.\n",
    "\n",
    "### Q.No.2 What might cause this bond to trade at a market price that is different from this calculated price?\n",
    "The bond's market price could differ due to changes in interest rates, the issuer's credit risk, inflation expectations, or market liquidity. For example, rising interest rates or inflation could lower the bond's price, while improvements in credit rating or high demand might increase it.\n",
    "\n",
    "\n",
    "\n"
   ]
  },
  {
   "cell_type": "markdown",
   "metadata": {
    "deletable": false,
    "editable": false
   },
   "source": [
    "<div class = \"panel panel-primary\">\n",
    "    <div class = \"panel-heading\"> \n",
    "    <span style=\"color:white\"><b>Task 7</b>\n",
    "    </div>\n",
    "    <div class = \"panel-body\"> \n",
    "    Recall that the dividend discount model is a stock valuation model that attempts to value a stock as if it was a bond, based on its dividends. It assumes that a company will continue to pay its dividend uninterrupted in perpituity, and that the stock price is simply the sum of all of its future dividend payments, discounted back to their present value:\n",
    "    <br><br>\n",
    "    $$P = \\frac{D_1}{r - g}$$\n",
    "    <br>Where $P$ is the stock price, $D$ is the company's annual dividend payment in the next year, and $r$ is the company's cost of capital, and $g$ is the expected dividend growth rate.\n",
    "    <br><br>As of June 2020, AAPL paid an annual dividend \\$3.28 with a most recent dividend growth rate of 6.49%, and an estimated cost of capital of 9%. According to the dividend discount model, what is the value of AAPL stock?\n",
    "    <br><br>Check that your answer should be approximately \\$139.16.\n",
    "    <br><br>How does that compare with the market price of AAPL ($364.8 as of June 2020). What are some shortcomings of the dividend discount model? How would the dividend discount model value TSLA?\n",
    "    </div>\n",
    "</div>"
   ]
  },
  {
   "cell_type": "code",
   "execution_count": 21,
   "metadata": {},
   "outputs": [
    {
     "name": "stdout",
     "output_type": "stream",
     "text": [
      " Hence, the value of AAPL stock is $139.16.\n"
     ]
    }
   ],
   "source": [
    "# Given,\n",
    "D = 3.28    # Annual dividend of AAPL\n",
    "g = 0.0649  # Dividend growth rate (6.49%)\n",
    "r = 0.09    # Cost of capital (9%)\n",
    "\n",
    "# Calculating value of AAPL stock (P) using dividend discount model,\n",
    "P = (D*(1+g))/(r-g)\n",
    "\n",
    "# The result,\n",
    "print (f' Hence, the value of AAPL stock is ${P:.2f}.')"
   ]
  },
  {
   "cell_type": "markdown",
   "metadata": {},
   "source": [
    "### Q.No.1 How does that compare with the market price of AAPL ($364.8 as of June 2020)?\n",
    "The Dividend Discount Model (DDM) values AAPL at 139.16, which is much lower than the actual market price of 364.8 in June 2020. This happens because the DDM only looks at future dividend payments and assumes constant growth. It doesn't take into account other factors like **investor optimism**,**market demand for the stock**, or **Apple's potential for growth beyond dividends**. The market price reflects a much broader view of Apple's value.\n"
   ]
  },
  {
   "cell_type": "markdown",
   "metadata": {},
   "source": [
    "### Q.No.2 What are some shortcomings of the dividend discount model?\n",
    "\n",
    "The Dividend Discount Model (DDM) has a few major drawbacks:\n",
    "\n",
    "1. **Depends on Dividends**: \n",
    "   - It only works for companies that pay regular dividends, so it doesn't help if the company reinvests profits or doesn’t pay dividends.\n",
    "\n",
    "2. **Unrealistic Growth Assumptions**: \n",
    "   - The model assumes that dividends grow at a constant rate forever, which isn't always realistic since company growth can change over time.\n",
    "\n",
    "3. **Very Sensitive to Estimates**: \n",
    "   - Even small changes in the estimated growth rate or required return can dramatically change the stock value, which makes the model risky if your estimates aren’t accurate.\n",
    "\n",
    "4. **Ignores Other Ways to Make Money**: \n",
    "   - It only focuses on dividends and doesn't consider other ways investors might earn returns, like increases in stock price or share buybacks.\n",
    "\n",
    "5. **Limited Use for High-Growth Companies**: \n",
    "   - It's not great for valuing companies that don’t rely on dividends, especially in industries like tech, where most returns come from growth rather than dividends.\n"
   ]
  },
  {
   "cell_type": "markdown",
   "metadata": {},
   "source": [
    " ### Q.No.3 How would the dividend discount model value TSLA?\n",
    "The Dividend Discount Model (DDM) wouldn’t work for Tesla (TSLA) because Tesla doesn’t pay dividends. The DDM is based on valuing companies that regularly pay dividends, and Tesla reinvests its earnings into growing the business instead of paying out to shareholders. \n",
    "\n",
    "For a company like Tesla, it’s better to use other methods, like the **Discounted Cash Flow (DCF)** model or looking at its **Price-to-Earnings (P/E)** ratio, which are more suited for growth companies like Tesla.\n"
   ]
  }
 ],
 "metadata": {
  "kernelspec": {
   "display_name": "Python 3 (ipykernel)",
   "language": "python",
   "name": "python3"
  },
  "language_info": {
   "codemirror_mode": {
    "name": "ipython",
    "version": 3
   },
   "file_extension": ".py",
   "mimetype": "text/x-python",
   "name": "python",
   "nbconvert_exporter": "python",
   "pygments_lexer": "ipython3",
   "version": "3.12.4"
  }
 },
 "nbformat": 4,
 "nbformat_minor": 4
}
